{
 "cells": [
  {
   "cell_type": "markdown",
   "metadata": {},
   "source": [
    "# Install requirements"
   ]
  },
  {
   "cell_type": "code",
   "execution_count": 15,
   "metadata": {},
   "outputs": [
    {
     "name": "stdout",
     "output_type": "stream",
     "text": [
      "Requirement already satisfied: google-cloud-pipeline-components in c:\\users\\abdel\\.conda\\envs\\ml\\lib\\site-packages (2.18.0)\n",
      "Requirement already satisfied: google-cloud-aiplatform in c:\\users\\abdel\\.conda\\envs\\ml\\lib\\site-packages (1.79.0)\n",
      "Requirement already satisfied: kfp in c:\\users\\abdel\\.conda\\envs\\ml\\lib\\site-packages (2.10.1)\n",
      "Requirement already satisfied: google-api-core!=2.0.*,!=2.1.*,!=2.2.*,!=2.3.0,<3.0.0dev,>=1.31.5 in c:\\users\\abdel\\.conda\\envs\\ml\\lib\\site-packages (from google-cloud-pipeline-components) (2.24.1)\n",
      "Requirement already satisfied: Jinja2<4,>=3.1.2 in c:\\users\\abdel\\.conda\\envs\\ml\\lib\\site-packages (from google-cloud-pipeline-components) (3.1.4)\n",
      "Requirement already satisfied: google-auth<3.0.0dev,>=2.14.1 in c:\\users\\abdel\\.conda\\envs\\ml\\lib\\site-packages (from google-cloud-aiplatform) (2.36.0)\n",
      "Requirement already satisfied: proto-plus<2.0.0dev,>=1.22.3 in c:\\users\\abdel\\.conda\\envs\\ml\\lib\\site-packages (from google-cloud-aiplatform) (1.26.0)\n",
      "Requirement already satisfied: protobuf!=4.21.0,!=4.21.1,!=4.21.2,!=4.21.3,!=4.21.4,!=4.21.5,<6.0.0dev,>=3.20.2 in c:\\users\\abdel\\.conda\\envs\\ml\\lib\\site-packages (from google-cloud-aiplatform) (4.25.6)\n",
      "Requirement already satisfied: packaging>=14.3 in c:\\users\\abdel\\.conda\\envs\\ml\\lib\\site-packages (from google-cloud-aiplatform) (24.1)\n",
      "Requirement already satisfied: google-cloud-storage<3.0.0dev,>=1.32.0 in c:\\users\\abdel\\.conda\\envs\\ml\\lib\\site-packages (from google-cloud-aiplatform) (2.19.0)\n",
      "Requirement already satisfied: google-cloud-bigquery!=3.20.0,<4.0.0dev,>=1.15.0 in c:\\users\\abdel\\.conda\\envs\\ml\\lib\\site-packages (from google-cloud-aiplatform) (3.29.0)\n",
      "Requirement already satisfied: google-cloud-resource-manager<3.0.0dev,>=1.3.3 in c:\\users\\abdel\\.conda\\envs\\ml\\lib\\site-packages (from google-cloud-aiplatform) (1.14.0)\n",
      "Requirement already satisfied: shapely<3.0.0dev in c:\\users\\abdel\\.conda\\envs\\ml\\lib\\site-packages (from google-cloud-aiplatform) (2.0.6)\n",
      "Requirement already satisfied: pydantic<3 in c:\\users\\abdel\\.conda\\envs\\ml\\lib\\site-packages (from google-cloud-aiplatform) (2.10.6)\n",
      "Requirement already satisfied: typing-extensions in c:\\users\\abdel\\.conda\\envs\\ml\\lib\\site-packages (from google-cloud-aiplatform) (4.12.2)\n",
      "Requirement already satisfied: docstring-parser<1 in c:\\users\\abdel\\.conda\\envs\\ml\\lib\\site-packages (from google-cloud-aiplatform) (0.16)\n",
      "Requirement already satisfied: click<9,>=8.0.0 in c:\\users\\abdel\\.conda\\envs\\ml\\lib\\site-packages (from kfp) (8.1.8)\n",
      "Requirement already satisfied: kfp-pipeline-spec==0.5.0 in c:\\users\\abdel\\.conda\\envs\\ml\\lib\\site-packages (from kfp) (0.5.0)\n",
      "Requirement already satisfied: kfp-server-api<2.4.0,>=2.1.0 in c:\\users\\abdel\\.conda\\envs\\ml\\lib\\site-packages (from kfp) (2.3.0)\n",
      "Requirement already satisfied: kubernetes<31,>=8.0.0 in c:\\users\\abdel\\.conda\\envs\\ml\\lib\\site-packages (from kfp) (30.1.0)\n",
      "Requirement already satisfied: PyYAML<7,>=5.3 in c:\\users\\abdel\\.conda\\envs\\ml\\lib\\site-packages (from kfp) (6.0.2)\n",
      "Requirement already satisfied: requests-toolbelt<1,>=0.8.0 in c:\\users\\abdel\\.conda\\envs\\ml\\lib\\site-packages (from kfp) (0.10.1)\n",
      "Requirement already satisfied: tabulate<1,>=0.8.6 in c:\\users\\abdel\\.conda\\envs\\ml\\lib\\site-packages (from kfp) (0.9.0)\n",
      "Requirement already satisfied: urllib3<2.0.0 in c:\\users\\abdel\\.conda\\envs\\ml\\lib\\site-packages (from kfp) (1.26.20)\n",
      "Requirement already satisfied: colorama in c:\\users\\abdel\\.conda\\envs\\ml\\lib\\site-packages (from click<9,>=8.0.0->kfp) (0.4.6)\n",
      "Requirement already satisfied: googleapis-common-protos<2.0.dev0,>=1.56.2 in c:\\users\\abdel\\.conda\\envs\\ml\\lib\\site-packages (from google-api-core!=2.0.*,!=2.1.*,!=2.2.*,!=2.3.0,<3.0.0dev,>=1.31.5->google-cloud-pipeline-components) (1.66.0)\n",
      "Requirement already satisfied: requests<3.0.0.dev0,>=2.18.0 in c:\\users\\abdel\\.conda\\envs\\ml\\lib\\site-packages (from google-api-core!=2.0.*,!=2.1.*,!=2.2.*,!=2.3.0,<3.0.0dev,>=1.31.5->google-cloud-pipeline-components) (2.32.3)\n",
      "Requirement already satisfied: grpcio<2.0dev,>=1.33.2 in c:\\users\\abdel\\.conda\\envs\\ml\\lib\\site-packages (from google-api-core[grpc]!=2.0.*,!=2.1.*,!=2.2.*,!=2.3.*,!=2.4.*,!=2.5.*,!=2.6.*,!=2.7.*,<3.0.0dev,>=1.34.1->google-cloud-aiplatform) (1.68.0)\n",
      "Requirement already satisfied: grpcio-status<2.0.dev0,>=1.33.2 in c:\\users\\abdel\\.conda\\envs\\ml\\lib\\site-packages (from google-api-core[grpc]!=2.0.*,!=2.1.*,!=2.2.*,!=2.3.*,!=2.4.*,!=2.5.*,!=2.6.*,!=2.7.*,<3.0.0dev,>=1.34.1->google-cloud-aiplatform) (1.62.3)\n",
      "Requirement already satisfied: cachetools<6.0,>=2.0.0 in c:\\users\\abdel\\.conda\\envs\\ml\\lib\\site-packages (from google-auth<3.0.0dev,>=2.14.1->google-cloud-aiplatform) (5.5.0)\n",
      "Requirement already satisfied: pyasn1-modules>=0.2.1 in c:\\users\\abdel\\.conda\\envs\\ml\\lib\\site-packages (from google-auth<3.0.0dev,>=2.14.1->google-cloud-aiplatform) (0.4.1)\n",
      "Requirement already satisfied: rsa<5,>=3.1.4 in c:\\users\\abdel\\.conda\\envs\\ml\\lib\\site-packages (from google-auth<3.0.0dev,>=2.14.1->google-cloud-aiplatform) (4.9)\n",
      "Requirement already satisfied: google-cloud-core<3.0.0dev,>=2.4.1 in c:\\users\\abdel\\.conda\\envs\\ml\\lib\\site-packages (from google-cloud-bigquery!=3.20.0,<4.0.0dev,>=1.15.0->google-cloud-aiplatform) (2.4.1)\n",
      "Requirement already satisfied: google-resumable-media<3.0dev,>=2.0.0 in c:\\users\\abdel\\.conda\\envs\\ml\\lib\\site-packages (from google-cloud-bigquery!=3.20.0,<4.0.0dev,>=1.15.0->google-cloud-aiplatform) (2.7.2)\n",
      "Requirement already satisfied: python-dateutil<3.0dev,>=2.7.3 in c:\\users\\abdel\\.conda\\envs\\ml\\lib\\site-packages (from google-cloud-bigquery!=3.20.0,<4.0.0dev,>=1.15.0->google-cloud-aiplatform) (2.9.0.post0)\n",
      "Requirement already satisfied: grpc-google-iam-v1<1.0.0dev,>=0.12.4 in c:\\users\\abdel\\.conda\\envs\\ml\\lib\\site-packages (from google-cloud-resource-manager<3.0.0dev,>=1.3.3->google-cloud-aiplatform) (0.14.0)\n",
      "Requirement already satisfied: google-crc32c<2.0dev,>=1.0 in c:\\users\\abdel\\.conda\\envs\\ml\\lib\\site-packages (from google-cloud-storage<3.0.0dev,>=1.32.0->google-cloud-aiplatform) (1.6.0)\n",
      "Requirement already satisfied: MarkupSafe>=2.0 in c:\\users\\abdel\\.conda\\envs\\ml\\lib\\site-packages (from Jinja2<4,>=3.1.2->google-cloud-pipeline-components) (2.1.3)\n",
      "Requirement already satisfied: six>=1.10 in c:\\users\\abdel\\.conda\\envs\\ml\\lib\\site-packages (from kfp-server-api<2.4.0,>=2.1.0->kfp) (1.16.0)\n",
      "Requirement already satisfied: certifi in c:\\users\\abdel\\.conda\\envs\\ml\\lib\\site-packages (from kfp-server-api<2.4.0,>=2.1.0->kfp) (2024.12.14)\n",
      "Requirement already satisfied: websocket-client!=0.40.0,!=0.41.*,!=0.42.*,>=0.32.0 in c:\\users\\abdel\\.conda\\envs\\ml\\lib\\site-packages (from kubernetes<31,>=8.0.0->kfp) (1.8.0)\n",
      "Requirement already satisfied: requests-oauthlib in c:\\users\\abdel\\.conda\\envs\\ml\\lib\\site-packages (from kubernetes<31,>=8.0.0->kfp) (2.0.0)\n",
      "Requirement already satisfied: oauthlib>=3.2.2 in c:\\users\\abdel\\.conda\\envs\\ml\\lib\\site-packages (from kubernetes<31,>=8.0.0->kfp) (3.2.2)\n",
      "Requirement already satisfied: annotated-types>=0.6.0 in c:\\users\\abdel\\.conda\\envs\\ml\\lib\\site-packages (from pydantic<3->google-cloud-aiplatform) (0.7.0)\n",
      "Requirement already satisfied: pydantic-core==2.27.2 in c:\\users\\abdel\\.conda\\envs\\ml\\lib\\site-packages (from pydantic<3->google-cloud-aiplatform) (2.27.2)\n",
      "Requirement already satisfied: numpy<3,>=1.14 in c:\\users\\abdel\\.conda\\envs\\ml\\lib\\site-packages (from shapely<3.0.0dev->google-cloud-aiplatform) (1.26.4)\n",
      "Requirement already satisfied: pyasn1<0.7.0,>=0.4.6 in c:\\users\\abdel\\.conda\\envs\\ml\\lib\\site-packages (from pyasn1-modules>=0.2.1->google-auth<3.0.0dev,>=2.14.1->google-cloud-aiplatform) (0.6.1)\n",
      "Requirement already satisfied: charset-normalizer<4,>=2 in c:\\users\\abdel\\.conda\\envs\\ml\\lib\\site-packages (from requests<3.0.0.dev0,>=2.18.0->google-api-core!=2.0.*,!=2.1.*,!=2.2.*,!=2.3.0,<3.0.0dev,>=1.31.5->google-cloud-pipeline-components) (3.3.2)\n",
      "Requirement already satisfied: idna<4,>=2.5 in c:\\users\\abdel\\.conda\\envs\\ml\\lib\\site-packages (from requests<3.0.0.dev0,>=2.18.0->google-api-core!=2.0.*,!=2.1.*,!=2.2.*,!=2.3.0,<3.0.0dev,>=1.31.5->google-cloud-pipeline-components) (3.10)\n"
     ]
    }
   ],
   "source": [
    "!pip install google-cloud-pipeline-components google-cloud-aiplatform kfp"
   ]
  },
  {
   "cell_type": "markdown",
   "metadata": {},
   "source": [
    "# Import & compile the pipeline"
   ]
  },
  {
   "cell_type": "code",
   "execution_count": 9,
   "metadata": {},
   "outputs": [],
   "source": [
    "from google_cloud_pipeline_components.preview.llm import rlhf_pipeline\n",
    "from kfp import compiler\n",
    "import math"
   ]
  },
  {
   "cell_type": "code",
   "execution_count": 7,
   "metadata": {},
   "outputs": [],
   "source": [
    "RLHF_PIPELINE_PKG_PATH = \"rlhf_pipeline.yaml\""
   ]
  },
  {
   "cell_type": "code",
   "execution_count": 8,
   "metadata": {},
   "outputs": [],
   "source": [
    "compiler.Compiler().compile(\n",
    "    pipeline_func=rlhf_pipeline,\n",
    "    package_path=RLHF_PIPELINE_PKG_PATH\n",
    ")"
   ]
  },
  {
   "cell_type": "markdown",
   "metadata": {},
   "source": [
    "# Define the Vertex AI pipeline job"
   ]
  },
  {
   "cell_type": "code",
   "execution_count": 10,
   "metadata": {},
   "outputs": [],
   "source": [
    "PREF_DATASET_SIZE = 3000\n",
    "BATCH_SIZE = 64\n",
    "REWARD_STEPS_PER_EPOCH = math.ceil(PREF_DATASET_SIZE / BATCH_SIZE)\n",
    "REWARD_NUM_EPOCHS = 30\n",
    "reward_model_train_steps = REWARD_STEPS_PER_EPOCH * REWARD_NUM_EPOCHS"
   ]
  },
  {
   "cell_type": "code",
   "execution_count": 11,
   "metadata": {},
   "outputs": [],
   "source": [
    "PROMPT_DATASET_SIZE = 2000\n",
    "BATCH_SIZE = 64\n",
    "RL_STEPS_PER_EPOCH = math.ceil(PROMPT_DATASET_SIZE / BATCH_SIZE)\n",
    "RL_NUM_EPOCHS = 10\n",
    "reinforcement_learning_train_steps = RL_STEPS_PER_EPOCH * RL_NUM_EPOCHS"
   ]
  },
  {
   "cell_type": "code",
   "execution_count": 13,
   "metadata": {},
   "outputs": [],
   "source": [
    "# Completed values for the dictionary\n",
    "parameter_values={\n",
    "        \"preference_dataset\": \\\n",
    "    \"gs://vertex-ai/generative-ai/rlhf/text_small/summarize_from_feedback_tfds/comparisons/train/*.jsonl\",\n",
    "        \"prompt_dataset\": \\\n",
    "    \"gs://vertex-ai/generative-ai/rlhf/text_small/reddit_tfds/train/*.jsonl\",\n",
    "        \"eval_dataset\": \\\n",
    "    \"gs://vertex-ai/generative-ai/rlhf/text_small/reddit_tfds/val/*.jsonl\",\n",
    "        \"large_model_reference\": \"llama-2-7b\",\n",
    "        \"reward_model_train_steps\": reward_model_train_steps,\n",
    "        \"reinforcement_learning_train_steps\": reinforcement_learning_train_steps, \n",
    "        \"reward_model_learning_rate_multiplier\": 1.0,\n",
    "        \"reinforcement_learning_rate_multiplier\": 1.0,\n",
    "        \"kl_coeff\": 0.1, \n",
    "        \"instruction\":\\\n",
    "    \"Summarize in less than 50 words\"}"
   ]
  },
  {
   "cell_type": "markdown",
   "metadata": {},
   "source": [
    "# Set up Google Cloud to run the Vertex AI pipeline"
   ]
  },
  {
   "cell_type": "code",
   "execution_count": null,
   "metadata": {},
   "outputs": [],
   "source": [
    "# Authenticate in utils\n",
    "credentials, PROJECT_ID, STAGING_BUCKET = '','',''\n",
    "\n",
    "# RLFH pipeline is available in this region\n",
    "REGION = \"europe-west4\""
   ]
  },
  {
   "cell_type": "markdown",
   "metadata": {},
   "source": [
    "# Run the pipeline"
   ]
  },
  {
   "cell_type": "code",
   "execution_count": 17,
   "metadata": {},
   "outputs": [],
   "source": [
    "import google.cloud.aiplatform as aiplatform"
   ]
  },
  {
   "cell_type": "code",
   "execution_count": 18,
   "metadata": {},
   "outputs": [],
   "source": [
    "aiplatform.init(project = PROJECT_ID,\n",
    "                location = REGION,\n",
    "                credentials = credentials)"
   ]
  },
  {
   "cell_type": "code",
   "execution_count": null,
   "metadata": {},
   "outputs": [],
   "source": [
    "job = aiplatform.PipelineJob(\n",
    "    display_name=\"tutorial-rlhf-tuning\",\n",
    "    pipeline_root=STAGING_BUCKET,\n",
    "    template_path=RLHF_PIPELINE_PKG_PATH,\n",
    "    parameter_values=parameter_values)"
   ]
  },
  {
   "cell_type": "code",
   "execution_count": null,
   "metadata": {},
   "outputs": [],
   "source": [
    "job.run()"
   ]
  }
 ],
 "metadata": {
  "kernelspec": {
   "display_name": "ML",
   "language": "python",
   "name": "python3"
  },
  "language_info": {
   "codemirror_mode": {
    "name": "ipython",
    "version": 3
   },
   "file_extension": ".py",
   "mimetype": "text/x-python",
   "name": "python",
   "nbconvert_exporter": "python",
   "pygments_lexer": "ipython3",
   "version": "3.9.20"
  }
 },
 "nbformat": 4,
 "nbformat_minor": 2
}
